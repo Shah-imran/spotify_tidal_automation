{
 "cells": [
  {
   "cell_type": "code",
   "execution_count": 1,
   "metadata": {
    "ExecuteTime": {
     "end_time": "2020-04-30T15:54:26.907211Z",
     "start_time": "2020-04-30T15:54:26.211523Z"
    }
   },
   "outputs": [],
   "source": [
    "from selenium import webdriver\n",
    "from selenium.webdriver.common.by import By\n",
    "from selenium.webdriver.support.ui import WebDriverWait\n",
    "from selenium.webdriver.support import expected_conditions as EC\n",
    "from selenium.webdriver.common.keys import Keys\n",
    "from selenium.webdriver.chrome.options import Options\n",
    "import time\n",
    "from fake_useragent import UserAgent\n",
    "import string, random, zipfile\n",
    "  \n",
    "from anticaptchaofficial.recaptchav2proxyon import *"
   ]
  },
  {
   "cell_type": "code",
   "execution_count": 2,
   "metadata": {
    "ExecuteTime": {
     "end_time": "2020-04-30T15:54:41.167246Z",
     "start_time": "2020-04-30T15:54:29.905716Z"
    }
   },
   "outputs": [
    {
     "name": "stdout",
     "output_type": "stream",
     "text": [
      "Selnathanjohnson\n",
      "Mozilla/5.0 (X11; Ubuntu; Linux x86_64) AppleWebKit/537.36 (KHTML, like Gecko) Chrome/55.0.2919.83 Safari/537.36\n"
     ]
    },
    {
     "name": "stderr",
     "output_type": "stream",
     "text": [
      "c:\\users\\shah_\\appdata\\local\\programs\\python\\python36\\lib\\site-packages\\ipykernel_launcher.py:89: DeprecationWarning: use options instead of chrome_options\n"
     ]
    }
   ],
   "source": [
    "\n",
    "\n",
    "username = \"lum-customer-hl_fec22e79-zone-static\"+\"-country-us-session-\"\n",
    "\n",
    "char_set = string.ascii_lowercase\n",
    "ext = random.sample(char_set * 8, 8)\n",
    "ext = ''.join(ext)\n",
    "# PROXY_HOST = \"zproxy.lum-superproxy.io\"\n",
    "# PROXY_PORT = 22225\n",
    "PROXY_HOST = \"64.137.65.213\"\n",
    "PROXY_PORT = 45785\n",
    "# PROXY_USER = username + ext\n",
    "PROXY_USER = \"Selnathanjohnson\"\n",
    "# PROXY_PASS = \"tgzvntfqdvbe\"\n",
    "PROXY_PASS = \"I5s5ImM\"\n",
    "# PROXY_PASS = \"Suvo1112\"\n",
    "print(PROXY_USER)\n",
    "manifest_json = \"\"\"\n",
    "{\n",
    "    \"version\": \"1.0.0\",\n",
    "    \"manifest_version\": 2,\n",
    "    \"name\": \"Chrome Proxy\",\n",
    "    \"permissions\": [\n",
    "        \"proxy\",\n",
    "        \"tabs\",\n",
    "        \"unlimitedStorage\",\n",
    "        \"storage\",\n",
    "        \"<all_urls>\",\n",
    "        \"webRequest\",\n",
    "        \"webRequestBlocking\"\n",
    "    ],\n",
    "    \"background\": {\n",
    "        \"scripts\": [\"background.js\"]\n",
    "    },\n",
    "    \"minimum_chrome_version\":\"22.0.0\"\n",
    "}\n",
    "\"\"\"\n",
    "\n",
    "background_js = \"\"\"\n",
    "var config = {\n",
    "        mode: \"fixed_servers\",\n",
    "        rules: {\n",
    "        singleProxy: {\n",
    "            scheme: \"http\",\n",
    "            host: \"%(host)s\",\n",
    "            port: parseInt(%(port)d)\n",
    "        },\n",
    "        bypassList: [\"foobar.com\"]\n",
    "        }\n",
    "    };\n",
    "\n",
    "chrome.proxy.settings.set({value: config, scope: \"regular\"}, function() {});\n",
    "\n",
    "function callbackFn(details) {\n",
    "    return {\n",
    "        authCredentials: {\n",
    "            username: \"%(user)s\",\n",
    "            password: \"%(pass)s\"\n",
    "        }\n",
    "    };\n",
    "}\n",
    "\n",
    "chrome.webRequest.onAuthRequired.addListener(\n",
    "            callbackFn,\n",
    "            {urls: [\"<all_urls>\"]},\n",
    "            ['blocking']\n",
    ");\n",
    "\"\"\" % {\n",
    "    \"host\": PROXY_HOST,\n",
    "    \"port\": PROXY_PORT,\n",
    "    \"user\": PROXY_USER,\n",
    "    \"pass\": PROXY_PASS,\n",
    "}\n",
    "\n",
    "pluginfile = 'proxy_auth_plugin.zip'\n",
    "\n",
    "with zipfile.ZipFile(pluginfile, 'w') as zp:\n",
    "    zp.writestr(\"manifest.json\", manifest_json)\n",
    "    zp.writestr(\"background.js\", background_js)\n",
    "\n",
    "co = Options()\n",
    "co.add_argument(\"--start-maximized\")\n",
    "co.add_extension(pluginfile)\n",
    "ua = UserAgent()\n",
    "userAgent = ua.random\n",
    "print(userAgent)\n",
    "# co.add_argument(f'user-agent={userAgent}')\n",
    "# ----- without image ----- (uncomment this)\n",
    "# prefs = {\"profile.managed_default_content_settings.images\": 2}\n",
    "# co.add_experimental_option(\"prefs\", prefs)\n",
    "driver = webdriver.Chrome(executable_path='chromedriver', chrome_options=co)\n",
    "driver.get(\"http://lumtest.com/myip.json\")"
   ]
  },
  {
   "cell_type": "code",
   "execution_count": null,
   "metadata": {},
   "outputs": [],
   "source": []
  },
  {
   "cell_type": "code",
   "execution_count": 3,
   "metadata": {
    "ExecuteTime": {
     "end_time": "2020-04-23T05:27:03.321771Z",
     "start_time": "2020-04-23T05:22:35.388428Z"
    }
   },
   "outputs": [],
   "source": [
    "emails = [\"nathan.johnson@billionaireminded.com\" , \"nathan.johnson@brightp.com\"]\n",
    "passwords = [\"WillieB1@1\", \"WillieB1@1\"]\n",
    "songsList = [\"https://open.spotify.com/track/09AFPW849hF9AR37J48oDY\" ,\n",
    "            \"https://open.spotify.com/track/7oKRShByLwzgbHirdZcPrE\"]\n",
    "for email, password in zip(emails, passwords):\n",
    "    driver = webdriver.Chrome(executable_path=r\"chromedriver.exe\")\n",
    "    #login to google\n",
    "    driver.maximize_window()\n",
    "    driver.get(\"https://accounts.spotify.com/en/login/?_locale=int&continue=https:%2F%2Fwww.spotify.com%2Fint%2Faccount%2Foverview%2F\")\n",
    "    time.sleep(5)\n",
    "    driver.find_element_by_id(\"login-username\").send_keys(email + Keys.TAB + password + Keys.ENTER)\n",
    "    time.sleep(5)\n",
    "    for songs in songsList:\n",
    "        driver.get(songs)\n",
    "        time.sleep(40)\n",
    "    time.sleep(5)\n",
    "    driver.quit()"
   ]
  },
  {
   "cell_type": "code",
   "execution_count": 3,
   "metadata": {
    "ExecuteTime": {
     "end_time": "2020-04-30T15:56:22.048372Z",
     "start_time": "2020-04-30T15:55:30.428933Z"
    }
   },
   "outputs": [],
   "source": [
    "driver.get(\"https://listen.tidal.com/login\")"
   ]
  },
  {
   "cell_type": "code",
   "execution_count": 4,
   "metadata": {
    "ExecuteTime": {
     "end_time": "2020-04-30T15:57:38.715002Z",
     "start_time": "2020-04-30T15:57:11.215318Z"
    }
   },
   "outputs": [],
   "source": [
    "driver.find_element_by_class_name(\"login-facebook\").click()"
   ]
  },
  {
   "cell_type": "code",
   "execution_count": 5,
   "metadata": {
    "ExecuteTime": {
     "end_time": "2020-04-30T16:08:56.402859Z",
     "start_time": "2020-04-30T16:08:55.904441Z"
    }
   },
   "outputs": [],
   "source": [
    "email = \"nathan.johnson@brightp.com\"\n",
    "password = \"WillieB1@1\"\n",
    "driver.find_element_by_id(\"email\").send_keys(email + Keys.TAB + password + Keys.ENTER)"
   ]
  },
  {
   "cell_type": "code",
   "execution_count": 6,
   "metadata": {
    "ExecuteTime": {
     "end_time": "2020-04-30T16:10:29.848405Z",
     "start_time": "2020-04-30T16:10:28.777117Z"
    }
   },
   "outputs": [],
   "source": [
    "songs = [\"https://listen.tidal.com/album/92168913/track/92168923\", \"https://listen.tidal.com/album/137185965/track/137185966\"]\n"
   ]
  },
  {
   "cell_type": "code",
   "execution_count": 7,
   "metadata": {
    "ExecuteTime": {
     "end_time": "2020-04-30T16:13:34.539435Z",
     "start_time": "2020-04-30T16:13:34.242198Z"
    }
   },
   "outputs": [],
   "source": [
    "for song in songs:\n",
    "    driver.get(song)\n",
    "    driver.find_element_by_xpath(\"/html/body/div[2]/div/div/div/div[1]/div[2]/main/div[1]/div[2]/div/div[1]/span/div/header/div[2]/div[2]/button[1]\").click()"
   ]
  },
  {
   "cell_type": "code",
   "execution_count": null,
   "metadata": {
    "ExecuteTime": {
     "start_time": "2020-04-30T03:19:51.040Z"
    }
   },
   "outputs": [],
   "source": [
    "driver.find_element_by_xpath(\"/html/body/div[1]/div/div[2]/div[3]/div/div/div/div/div[1]/div/form/div/input\").send_keys(\"nathan.johnson@brightp.com\")"
   ]
  },
  {
   "cell_type": "code",
   "execution_count": 33,
   "metadata": {
    "ExecuteTime": {
     "end_time": "2020-04-30T02:27:48.073310Z",
     "start_time": "2020-04-30T02:27:48.057358Z"
    }
   },
   "outputs": [
    {
     "name": "stdout",
     "output_type": "stream",
     "text": [
      "https://login.tidal.com/authorize?appMode=WEB&client_id=CzET4vdadNUFQ5JU&client_unique_key=fc8a6602-7960-4122-b4e7-77f6bbf0cd77&code_challenge=2MemZGQ6oU2Ch6KNiod2-Q2zUM9p_6jB4xztnE0xE7I&code_challenge_method=S256&lang=en&redirect_uri=https%3A%2F%2Flisten.tidal.com%2Flogin%2Fauth&response_type=code&restrictSignup=true&scope=r_usr%20w_usr&state=TIDAL_1588213568213_ODcsMTg3LDkwLDExNSwxNjksMTg4LDk4LDk5LDE1NiwxMDksMjcsMTU4LDE4NCw5NSw5NywxMjgsMTYzLDI0NiwyMzIsNDAsMTc3LDIwMiw0MCwyNywzNCwxMDAsOTIsMTk1LDE5MiwzLDIyMCw4Ng&utm_banner=na&utm_campaign=na&utm_content=left_menu&utm_medium=web_player&utm_source=tidal\n",
      "6Lf-ty8UAAAAAE5YTgJXsS3B-frcWP41G15z-Va2\n"
     ]
    }
   ],
   "source": [
    "url = driver.current_url\n",
    "site_key = \"6Lf-ty8UAAAAAE5YTgJXsS3B-frcWP41G15z-Va2\"\n",
    "print(url)\n",
    "print(site_key)"
   ]
  },
  {
   "cell_type": "code",
   "execution_count": 7,
   "metadata": {
    "ExecuteTime": {
     "end_time": "2020-04-30T04:59:54.715060Z",
     "start_time": "2020-04-30T04:58:10.438988Z"
    }
   },
   "outputs": [
    {
     "name": "stdout",
     "output_type": "stream",
     "text": [
      "https://login.tidal.com/authorize?appMode=WEB&client_id=CzET4vdadNUFQ5JU&client_unique_key=cd3a1f98-c308-4e5f-ac20-4b3931de017c&code_challenge=fs2FDSr2dDjQZQ_AOMTh2oa16eRG1TGs5PifqwXKBAA&code_challenge_method=S256&lang=en&redirect_uri=https%3A%2F%2Flisten.tidal.com%2Flogin%2Fauth&response_type=code&restrictSignup=true&scope=r_usr%20w_usr&state=TIDAL_1588222693354_MTU2LDIzOCwxMzYsMjU1LDM0LDYsNTIsNzAsMTQwLDIwMSwxOSwxMDUsMTg2LDI0NiwyMTEsOTksODMsMTU1LDIyNSwyNDUsMjYsMTQsMTg3LDEzMiwxMzksNDIsODUsMTksMjIwLDE3LDIxOCwxNzg&utm_banner=na&utm_campaign=na&utm_content=left_menu&utm_medium=web_player&utm_source=tidal\n",
      "6Lf-ty8UAAAAAE5YTgJXsS3B-frcWP41G15z-Va2\n",
      "making request to createTask\n",
      "created task with id 145584011\n",
      "making request to getTaskResult\n",
      "task is still processing\n",
      "making request to getTaskResult\n",
      "task is still processing\n",
      "making request to getTaskResult\n",
      "task is still processing\n",
      "making request to getTaskResult\n",
      "task is still processing\n",
      "making request to getTaskResult\n",
      "task is still processing\n",
      "making request to getTaskResult\n",
      "task is still processing\n",
      "making request to getTaskResult\n",
      "task is still processing\n",
      "making request to getTaskResult\n",
      "task is still processing\n",
      "making request to getTaskResult\n",
      "task solved\n",
      "g-response: 03AGdBq27XgY0VWfyo9NqEXjXSZOq3HG2Yz-TVxAqUvMCq5slpl2CfWsXKQOmnDHgCn_DkHD1fxKqGrWv7IGjzwRvyuvvej2Kwtor7aeZEP-_ZXryJdmy9gJgdkmeu-iPEkM-JHJDLnPhnlXFqIbR6I-_a0XixW3d_kieGHyBVRlzpS0sUoDSYQULMD3OQAV-T4r8-OuOFrsS8ZhdE83SK_CzNQ0_P5v6E9aOW6kRWDMGbMd2qbE-FUtYcbkgyahaFugAxHLtDn38L6RXmCQlGOk0-s4Y0-4A0SuXooU2BV53Tvt9eph9j_mO7GcmNM5YIK9P-zDZN9dhVym61QXPCweZIQsz7yfSGtEnkRWXfE5yNY6zoKe_O6l7Ox3XNtuPeIHH-noXGNUlozu0uYT9A8Dk0BF3lV_Th6jBKmZVBBf0OOAXNbljTu98bzu4gcXpvzrS3hoM4KHDbG6auh2k7Q_6XoJ-8SbUe2Q\n"
     ]
    }
   ],
   "source": [
    "driver.get(\"https://listen.tidal.com/login\")\n",
    "time.sleep(20)\n",
    "driver.find_element_by_xpath(\"/html/body/div[1]/div/div[2]/div[3]/div/div/div/div/div[1]/div/form/div/input\").send_keys(\"nathan.johnson@brightp.com\"+Keys.ENTER)\n",
    "time.sleep(5)\n",
    "url = driver.current_url\n",
    "site_key = \"6Lf-ty8UAAAAAE5YTgJXsS3B-frcWP41G15z-Va2\"\n",
    "print(url)\n",
    "print(site_key)\n",
    "\n",
    "solver = recaptchaV2Proxyon()\n",
    "solver.set_verbose(1)\n",
    "solver.set_key(\"887db85c037b7a2fe7f1fac13012a1c8\")\n",
    "solver.set_website_url(url)\n",
    "solver.set_website_key(site_key)\n",
    "solver.set_proxy_address(PROXY_HOST)\n",
    "solver.set_proxy_port(PROXY_PORT)\n",
    "solver.set_proxy_login(PROXY_USER)\n",
    "solver.set_proxy_password(PROXY_PASS)\n",
    "solver.set_user_agent(\"Mozilla/5.0\")\n",
    "solver.set_cookies(\"test=true\")\n",
    "\n",
    "g_response = solver.solve_and_return_solution()\n",
    "if g_response != 0:\n",
    "    print(\"g-response: \"+g_response)\n",
    "else:\n",
    "    print(\"task finished with error \"+solver.error_code)\n",
    "    \n",
    "time.sleep(5)\n",
    "    \n",
    "driver.execute_script('document.getElementById(\"g-recaptcha-response\").innerHTML = \"%s\"' % g_response)\n",
    "\n",
    "# Wait a moment to execute the script (just in case).\n",
    "time.sleep(5)\n",
    "\n",
    "driver.find_element_by_xpath(\"/html/body/div[2]/div[2]/iframe\").send_keys(Keys.RETURN)\n",
    "\n",
    "# Press submit button"
   ]
  },
  {
   "cell_type": "code",
   "execution_count": 8,
   "metadata": {
    "ExecuteTime": {
     "end_time": "2020-04-30T02:48:48.399765Z",
     "start_time": "2020-04-30T02:48:48.347922Z"
    }
   },
   "outputs": [
    {
     "ename": "NoSuchElementException",
     "evalue": "Message: no such element: Unable to locate element: {\"method\":\"id\",\"selector\":\"recaptcha-verify-button\"}\n  (Session info: chrome=81.0.4044.129)\n  (Driver info: chromedriver=72.0.3626.69 (3c16f8a135abc0d4da2dff33804db79b849a7c38),platform=Windows NT 10.0.18362 x86_64)\n",
     "output_type": "error",
     "traceback": [
      "\u001b[1;31m---------------------------------------------------------------------------\u001b[0m",
      "\u001b[1;31mNoSuchElementException\u001b[0m                    Traceback (most recent call last)",
      "\u001b[1;32m<ipython-input-8-919ca3d1af39>\u001b[0m in \u001b[0;36m<module>\u001b[1;34m\u001b[0m\n\u001b[1;32m----> 1\u001b[1;33m \u001b[0mdriver\u001b[0m\u001b[1;33m.\u001b[0m\u001b[0mfind_element_by_id\u001b[0m\u001b[1;33m(\u001b[0m\u001b[1;34m\"recaptcha-verify-button\"\u001b[0m\u001b[1;33m)\u001b[0m\u001b[1;33m.\u001b[0m\u001b[0mclick\u001b[0m\u001b[1;33m(\u001b[0m\u001b[1;33m)\u001b[0m\u001b[1;33m\u001b[0m\u001b[1;33m\u001b[0m\u001b[0m\n\u001b[0m",
      "\u001b[1;32mc:\\users\\shah_\\appdata\\local\\programs\\python\\python36\\lib\\site-packages\\selenium\\webdriver\\remote\\webdriver.py\u001b[0m in \u001b[0;36mfind_element_by_id\u001b[1;34m(self, id_)\u001b[0m\n\u001b[0;32m    358\u001b[0m             \u001b[0melement\u001b[0m \u001b[1;33m=\u001b[0m \u001b[0mdriver\u001b[0m\u001b[1;33m.\u001b[0m\u001b[0mfind_element_by_id\u001b[0m\u001b[1;33m(\u001b[0m\u001b[1;34m'foo'\u001b[0m\u001b[1;33m)\u001b[0m\u001b[1;33m\u001b[0m\u001b[1;33m\u001b[0m\u001b[0m\n\u001b[0;32m    359\u001b[0m         \"\"\"\n\u001b[1;32m--> 360\u001b[1;33m         \u001b[1;32mreturn\u001b[0m \u001b[0mself\u001b[0m\u001b[1;33m.\u001b[0m\u001b[0mfind_element\u001b[0m\u001b[1;33m(\u001b[0m\u001b[0mby\u001b[0m\u001b[1;33m=\u001b[0m\u001b[0mBy\u001b[0m\u001b[1;33m.\u001b[0m\u001b[0mID\u001b[0m\u001b[1;33m,\u001b[0m \u001b[0mvalue\u001b[0m\u001b[1;33m=\u001b[0m\u001b[0mid_\u001b[0m\u001b[1;33m)\u001b[0m\u001b[1;33m\u001b[0m\u001b[1;33m\u001b[0m\u001b[0m\n\u001b[0m\u001b[0;32m    361\u001b[0m \u001b[1;33m\u001b[0m\u001b[0m\n\u001b[0;32m    362\u001b[0m     \u001b[1;32mdef\u001b[0m \u001b[0mfind_elements_by_id\u001b[0m\u001b[1;33m(\u001b[0m\u001b[0mself\u001b[0m\u001b[1;33m,\u001b[0m \u001b[0mid_\u001b[0m\u001b[1;33m)\u001b[0m\u001b[1;33m:\u001b[0m\u001b[1;33m\u001b[0m\u001b[1;33m\u001b[0m\u001b[0m\n",
      "\u001b[1;32mc:\\users\\shah_\\appdata\\local\\programs\\python\\python36\\lib\\site-packages\\selenium\\webdriver\\remote\\webdriver.py\u001b[0m in \u001b[0;36mfind_element\u001b[1;34m(self, by, value)\u001b[0m\n\u001b[0;32m    976\u001b[0m         return self.execute(Command.FIND_ELEMENT, {\n\u001b[0;32m    977\u001b[0m             \u001b[1;34m'using'\u001b[0m\u001b[1;33m:\u001b[0m \u001b[0mby\u001b[0m\u001b[1;33m,\u001b[0m\u001b[1;33m\u001b[0m\u001b[1;33m\u001b[0m\u001b[0m\n\u001b[1;32m--> 978\u001b[1;33m             'value': value})['value']\n\u001b[0m\u001b[0;32m    979\u001b[0m \u001b[1;33m\u001b[0m\u001b[0m\n\u001b[0;32m    980\u001b[0m     \u001b[1;32mdef\u001b[0m \u001b[0mfind_elements\u001b[0m\u001b[1;33m(\u001b[0m\u001b[0mself\u001b[0m\u001b[1;33m,\u001b[0m \u001b[0mby\u001b[0m\u001b[1;33m=\u001b[0m\u001b[0mBy\u001b[0m\u001b[1;33m.\u001b[0m\u001b[0mID\u001b[0m\u001b[1;33m,\u001b[0m \u001b[0mvalue\u001b[0m\u001b[1;33m=\u001b[0m\u001b[1;32mNone\u001b[0m\u001b[1;33m)\u001b[0m\u001b[1;33m:\u001b[0m\u001b[1;33m\u001b[0m\u001b[1;33m\u001b[0m\u001b[0m\n",
      "\u001b[1;32mc:\\users\\shah_\\appdata\\local\\programs\\python\\python36\\lib\\site-packages\\selenium\\webdriver\\remote\\webdriver.py\u001b[0m in \u001b[0;36mexecute\u001b[1;34m(self, driver_command, params)\u001b[0m\n\u001b[0;32m    319\u001b[0m         \u001b[0mresponse\u001b[0m \u001b[1;33m=\u001b[0m \u001b[0mself\u001b[0m\u001b[1;33m.\u001b[0m\u001b[0mcommand_executor\u001b[0m\u001b[1;33m.\u001b[0m\u001b[0mexecute\u001b[0m\u001b[1;33m(\u001b[0m\u001b[0mdriver_command\u001b[0m\u001b[1;33m,\u001b[0m \u001b[0mparams\u001b[0m\u001b[1;33m)\u001b[0m\u001b[1;33m\u001b[0m\u001b[1;33m\u001b[0m\u001b[0m\n\u001b[0;32m    320\u001b[0m         \u001b[1;32mif\u001b[0m \u001b[0mresponse\u001b[0m\u001b[1;33m:\u001b[0m\u001b[1;33m\u001b[0m\u001b[1;33m\u001b[0m\u001b[0m\n\u001b[1;32m--> 321\u001b[1;33m             \u001b[0mself\u001b[0m\u001b[1;33m.\u001b[0m\u001b[0merror_handler\u001b[0m\u001b[1;33m.\u001b[0m\u001b[0mcheck_response\u001b[0m\u001b[1;33m(\u001b[0m\u001b[0mresponse\u001b[0m\u001b[1;33m)\u001b[0m\u001b[1;33m\u001b[0m\u001b[1;33m\u001b[0m\u001b[0m\n\u001b[0m\u001b[0;32m    322\u001b[0m             response['value'] = self._unwrap_value(\n\u001b[0;32m    323\u001b[0m                 response.get('value', None))\n",
      "\u001b[1;32mc:\\users\\shah_\\appdata\\local\\programs\\python\\python36\\lib\\site-packages\\selenium\\webdriver\\remote\\errorhandler.py\u001b[0m in \u001b[0;36mcheck_response\u001b[1;34m(self, response)\u001b[0m\n\u001b[0;32m    240\u001b[0m                 \u001b[0malert_text\u001b[0m \u001b[1;33m=\u001b[0m \u001b[0mvalue\u001b[0m\u001b[1;33m[\u001b[0m\u001b[1;34m'alert'\u001b[0m\u001b[1;33m]\u001b[0m\u001b[1;33m.\u001b[0m\u001b[0mget\u001b[0m\u001b[1;33m(\u001b[0m\u001b[1;34m'text'\u001b[0m\u001b[1;33m)\u001b[0m\u001b[1;33m\u001b[0m\u001b[1;33m\u001b[0m\u001b[0m\n\u001b[0;32m    241\u001b[0m             \u001b[1;32mraise\u001b[0m \u001b[0mexception_class\u001b[0m\u001b[1;33m(\u001b[0m\u001b[0mmessage\u001b[0m\u001b[1;33m,\u001b[0m \u001b[0mscreen\u001b[0m\u001b[1;33m,\u001b[0m \u001b[0mstacktrace\u001b[0m\u001b[1;33m,\u001b[0m \u001b[0malert_text\u001b[0m\u001b[1;33m)\u001b[0m\u001b[1;33m\u001b[0m\u001b[1;33m\u001b[0m\u001b[0m\n\u001b[1;32m--> 242\u001b[1;33m         \u001b[1;32mraise\u001b[0m \u001b[0mexception_class\u001b[0m\u001b[1;33m(\u001b[0m\u001b[0mmessage\u001b[0m\u001b[1;33m,\u001b[0m \u001b[0mscreen\u001b[0m\u001b[1;33m,\u001b[0m \u001b[0mstacktrace\u001b[0m\u001b[1;33m)\u001b[0m\u001b[1;33m\u001b[0m\u001b[1;33m\u001b[0m\u001b[0m\n\u001b[0m\u001b[0;32m    243\u001b[0m \u001b[1;33m\u001b[0m\u001b[0m\n\u001b[0;32m    244\u001b[0m     \u001b[1;32mdef\u001b[0m \u001b[0m_value_or_default\u001b[0m\u001b[1;33m(\u001b[0m\u001b[0mself\u001b[0m\u001b[1;33m,\u001b[0m \u001b[0mobj\u001b[0m\u001b[1;33m,\u001b[0m \u001b[0mkey\u001b[0m\u001b[1;33m,\u001b[0m \u001b[0mdefault\u001b[0m\u001b[1;33m)\u001b[0m\u001b[1;33m:\u001b[0m\u001b[1;33m\u001b[0m\u001b[1;33m\u001b[0m\u001b[0m\n",
      "\u001b[1;31mNoSuchElementException\u001b[0m: Message: no such element: Unable to locate element: {\"method\":\"id\",\"selector\":\"recaptcha-verify-button\"}\n  (Session info: chrome=81.0.4044.129)\n  (Driver info: chromedriver=72.0.3626.69 (3c16f8a135abc0d4da2dff33804db79b849a7c38),platform=Windows NT 10.0.18362 x86_64)\n"
     ]
    }
   ],
   "source": [
    "driver.find_element_by_id(\"recaptcha-verify-button\").click()"
   ]
  },
  {
   "cell_type": "code",
   "execution_count": null,
   "metadata": {},
   "outputs": [],
   "source": [
    "iframe = driver.find_element_by_xpath(\"/html/body/div[2]/div[2]/iframe\")\n",
    "driver.switch_to.frame(iframe)\n",
    "driver.find_element_by_id(\"recaptcha-verify-button\")"
   ]
  },
  {
   "cell_type": "code",
   "execution_count": 36,
   "metadata": {
    "ExecuteTime": {
     "end_time": "2020-04-30T02:29:07.524617Z",
     "start_time": "2020-04-30T02:29:06.515196Z"
    }
   },
   "outputs": [],
   "source": [
    "driver.switch_to.default_content()"
   ]
  },
  {
   "cell_type": "code",
   "execution_count": 9,
   "metadata": {
    "ExecuteTime": {
     "end_time": "2020-04-23T05:11:42.102578Z",
     "start_time": "2020-04-23T05:10:23.260454Z"
    }
   },
   "outputs": [],
   "source": [
    "for songs in songsList:\n",
    "    driver.get(songs)\n",
    "    time.sleep(40)"
   ]
  },
  {
   "cell_type": "code",
   "execution_count": null,
   "metadata": {},
   "outputs": [],
   "source": [
    "https://www.google.com/recaptcha/api2/anchor?ar=1&k=6Lf-ty8UAAAAAE5YTgJXsS3B-frcWP41G15z-Va2&co=aHR0cHM6Ly9sb2dpbi50aWRhbC5jb206NDQz&hl=en&v=wk6lx42JIeYmEAQSHndnyT8Q&theme=dark&size=invisible&badge=inline&cb=kml192c5mpk0"
   ]
  }
 ],
 "metadata": {
  "kernelspec": {
   "display_name": "Python 3",
   "language": "python",
   "name": "python3"
  },
  "language_info": {
   "codemirror_mode": {
    "name": "ipython",
    "version": 3
   },
   "file_extension": ".py",
   "mimetype": "text/x-python",
   "name": "python",
   "nbconvert_exporter": "python",
   "pygments_lexer": "ipython3",
   "version": "3.6.8"
  }
 },
 "nbformat": 4,
 "nbformat_minor": 2
}
